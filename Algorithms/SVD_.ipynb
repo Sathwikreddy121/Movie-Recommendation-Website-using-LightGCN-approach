{
  "nbformat": 4,
  "nbformat_minor": 0,
  "metadata": {
    "colab": {
      "provenance": []
    },
    "kernelspec": {
      "name": "python3",
      "display_name": "Python 3"
    },
    "language_info": {
      "name": "python"
    }
  },
  "cells": [
    {
      "cell_type": "code",
      "execution_count": 1,
      "metadata": {
        "id": "mAw-cZ9lb1nA",
        "colab": {
          "base_uri": "https://localhost:8080/"
        },
        "outputId": "25ab1890-ff6a-464c-a44b-e799f04aa5d6"
      },
      "outputs": [
        {
          "output_type": "stream",
          "name": "stdout",
          "text": [
            "Requirement already satisfied: pandas in /usr/local/lib/python3.10/dist-packages (2.0.3)\n",
            "Requirement already satisfied: python-dateutil>=2.8.2 in /usr/local/lib/python3.10/dist-packages (from pandas) (2.8.2)\n",
            "Requirement already satisfied: pytz>=2020.1 in /usr/local/lib/python3.10/dist-packages (from pandas) (2023.4)\n",
            "Requirement already satisfied: tzdata>=2022.1 in /usr/local/lib/python3.10/dist-packages (from pandas) (2024.1)\n",
            "Requirement already satisfied: numpy>=1.21.0 in /usr/local/lib/python3.10/dist-packages (from pandas) (1.25.2)\n",
            "Requirement already satisfied: six>=1.5 in /usr/local/lib/python3.10/dist-packages (from python-dateutil>=2.8.2->pandas) (1.16.0)\n",
            "Collecting scikit-surprise\n",
            "  Downloading scikit-surprise-1.1.3.tar.gz (771 kB)\n",
            "\u001b[2K     \u001b[90m━━━━━━━━━━━━━━━━━━━━━━━━━━━━━━━━━━━━━━━━\u001b[0m \u001b[32m772.0/772.0 kB\u001b[0m \u001b[31m7.5 MB/s\u001b[0m eta \u001b[36m0:00:00\u001b[0m\n",
            "\u001b[?25h  Preparing metadata (setup.py) ... \u001b[?25l\u001b[?25hdone\n",
            "Requirement already satisfied: joblib>=1.0.0 in /usr/local/lib/python3.10/dist-packages (from scikit-surprise) (1.3.2)\n",
            "Requirement already satisfied: numpy>=1.17.3 in /usr/local/lib/python3.10/dist-packages (from scikit-surprise) (1.25.2)\n",
            "Requirement already satisfied: scipy>=1.3.2 in /usr/local/lib/python3.10/dist-packages (from scikit-surprise) (1.11.4)\n",
            "Building wheels for collected packages: scikit-surprise\n",
            "  Building wheel for scikit-surprise (setup.py) ... \u001b[?25l\u001b[?25hdone\n",
            "  Created wheel for scikit-surprise: filename=scikit_surprise-1.1.3-cp310-cp310-linux_x86_64.whl size=3162994 sha256=ecfd8ed30dba986592161d2121664febeffd74dcc77c30e09a65ee1ae8d18acb\n",
            "  Stored in directory: /root/.cache/pip/wheels/a5/ca/a8/4e28def53797fdc4363ca4af740db15a9c2f1595ebc51fb445\n",
            "Successfully built scikit-surprise\n",
            "Installing collected packages: scikit-surprise\n",
            "Successfully installed scikit-surprise-1.1.3\n"
          ]
        }
      ],
      "source": [
        "!pip install pandas\n",
        "!pip install scikit-surprise\n"
      ]
    },
    {
      "cell_type": "code",
      "source": [
        "import pandas as pd\n",
        "from surprise import Dataset, Reader, SVD\n",
        "from surprise.model_selection import train_test_split\n",
        "from collections import defaultdict"
      ],
      "metadata": {
        "id": "mlg8Da-GcRuW"
      },
      "execution_count": 2,
      "outputs": []
    },
    {
      "cell_type": "code",
      "source": [
        "# Load datasets\n",
        "links_df = pd.read_csv('links.csv')\n",
        "movies_df = pd.read_csv('movies.csv')\n",
        "ratings_df = pd.read_csv('ratings.csv')\n",
        "tags_df = pd.read_csv('tags.csv')"
      ],
      "metadata": {
        "id": "ld6ddDpidLXj"
      },
      "execution_count": 3,
      "outputs": []
    },
    {
      "cell_type": "code",
      "source": [
        "\n",
        "# Merge movies with ratings\n",
        "movie_ratings_df = pd.merge(movies_df, ratings_df, on='movieId')"
      ],
      "metadata": {
        "id": "ss7L96yJVJ0O"
      },
      "execution_count": 4,
      "outputs": []
    },
    {
      "cell_type": "code",
      "source": [
        "\n",
        "# Define the Reader object\n",
        "reader = Reader(rating_scale=(1, 5))"
      ],
      "metadata": {
        "id": "ENElDw0DVL-u"
      },
      "execution_count": 5,
      "outputs": []
    },
    {
      "cell_type": "code",
      "source": [
        "# Load the dataset\n",
        "data = Dataset.load_from_df(movie_ratings_df[['userId', 'movieId', 'rating']], reader)\n",
        "\n",
        "# Split the dataset into train and test sets\n",
        "trainset, testset = train_test_split(data, test_size=0.2, random_state=42)\n"
      ],
      "metadata": {
        "id": "EH4gON0UVO0s"
      },
      "execution_count": 6,
      "outputs": []
    },
    {
      "cell_type": "code",
      "source": [
        "# Train the SVD algorithm on the trainset\n",
        "algo = SVD()\n",
        "algo.fit(trainset)\n",
        "\n",
        "# Make predictions on the testset\n",
        "predictions = algo.test(testset)\n",
        "\n",
        "# Create a dictionary to store the ground truth ratings for each user\n",
        "true_ratings = defaultdict(list)\n",
        "for userId, movieId, true_rating in testset:\n",
        "    true_ratings[userId].append((movieId, true_rating))"
      ],
      "metadata": {
        "id": "mCXIxn5VVRYD"
      },
      "execution_count": 7,
      "outputs": []
    },
    {
      "cell_type": "code",
      "source": [
        "# Calculate precision and recall\n",
        "k = 10  # Top-k recommendations\n",
        "precision_sum = 0\n",
        "recall_sum = 0\n",
        "for userId in true_ratings:\n",
        "    # Get top-k recommendations for the user\n",
        "    user_top_k = sorted(predictions, key=lambda x: x.est, reverse=True)[:k]\n",
        "    user_top_k_movieIds = [pred.iid for pred in user_top_k]\n",
        "    relevant_items = sum(1 for (movieId, _) in true_ratings[userId] if movieId in user_top_k_movieIds)\n",
        "    precision_sum += relevant_items / k\n",
        "    recall_sum += relevant_items / len(true_ratings[userId])\n",
        "\n",
        "precision = precision_sum / len(true_ratings)\n",
        "recall = recall_sum / len(true_ratings)\n",
        "\n",
        "print(f'Precision@{k}: {precision}')\n",
        "print(f'Recall@{k}: {recall}')"
      ],
      "metadata": {
        "colab": {
          "base_uri": "https://localhost:8080/"
        },
        "id": "9HzKBdgeVU_T",
        "outputId": "913009fa-2321-4c75-ee44-cd86a2485be0"
      },
      "execution_count": 8,
      "outputs": [
        {
          "output_type": "stream",
          "name": "stdout",
          "text": [
            "Precision@10: 0.05287356321839093\n",
            "Recall@10: 0.027710033772782576\n"
          ]
        }
      ]
    },
    {
      "cell_type": "code",
      "source": [
        "import matplotlib.pyplot as plt\n",
        "\n",
        "# Plot bar graph for precision and recall\n",
        "labels = ['Precision', 'Recall']\n",
        "values = [precision, recall]\n",
        "\n",
        "plt.bar(labels, values, color=['blue', 'green'])\n",
        "plt.xlabel('Metrics')\n",
        "plt.ylabel('Values')\n",
        "plt.title('Precision and Recall')\n",
        "plt.show()"
      ],
      "metadata": {
        "colab": {
          "base_uri": "https://localhost:8080/",
          "height": 472
        },
        "id": "Cl2d9GjlVX0i",
        "outputId": "7fc0e407-921f-4bc7-875a-83d0a4e10ac5"
      },
      "execution_count": 10,
      "outputs": [
        {
          "output_type": "display_data",
          "data": {
            "text/plain": [
              "<Figure size 640x480 with 1 Axes>"
            ],
            "image/png": "[encoded data removed]"
          },
          "metadata": {}
        }
      ]
    },
    {
      "cell_type": "code",
      "source": [],
      "metadata": {
        "id": "W6X4XZKgVamE"
      },
      "execution_count": null,
      "outputs": []
    }
  ]
}