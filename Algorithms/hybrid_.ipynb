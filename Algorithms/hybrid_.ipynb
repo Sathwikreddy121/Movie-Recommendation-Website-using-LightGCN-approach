{
  "nbformat": 4,
  "nbformat_minor": 0,
  "metadata": {
    "colab": {
      "provenance": []
    },
    "kernelspec": {
      "name": "python3",
      "display_name": "Python 3"
    },
    "language_info": {
      "name": "python"
    }
  },
  "cells": [
    {
      "cell_type": "code",
      "execution_count": 1,
      "metadata": {
        "colab": {
          "base_uri": "https://localhost:8080/"
        },
        "id": "8JHxJgKOddOF",
        "outputId": "0afa5ce8-399c-45a2-a24a-b28d9a5016f9"
      },
      "outputs": [
        {
          "output_type": "stream",
          "name": "stdout",
          "text": [
            "Collecting scikit-surprise\n",
            "  Downloading scikit-surprise-1.1.3.tar.gz (771 kB)\n",
            "\u001b[2K     \u001b[90m━━━━━━━━━━━━━━━━━━━━━━━━━━━━━━━━━━━━━━━━\u001b[0m \u001b[32m772.0/772.0 kB\u001b[0m \u001b[31m5.8 MB/s\u001b[0m eta \u001b[36m0:00:00\u001b[0m\n",
            "\u001b[?25h  Preparing metadata (setup.py) ... \u001b[?25l\u001b[?25hdone\n",
            "Requirement already satisfied: joblib>=1.0.0 in /usr/local/lib/python3.10/dist-packages (from scikit-surprise) (1.4.0)\n",
            "Requirement already satisfied: numpy>=1.17.3 in /usr/local/lib/python3.10/dist-packages (from scikit-surprise) (1.25.2)\n",
            "Requirement already satisfied: scipy>=1.3.2 in /usr/local/lib/python3.10/dist-packages (from scikit-surprise) (1.11.4)\n",
            "Building wheels for collected packages: scikit-surprise\n",
            "  Building wheel for scikit-surprise (setup.py) ... \u001b[?25l\u001b[?25hdone\n",
            "  Created wheel for scikit-surprise: filename=scikit_surprise-1.1.3-cp310-cp310-linux_x86_64.whl size=3162998 sha256=880fb4f2353fec64af30ce4df46f95c20d8b32f3a7eb76614057712564905d7f\n",
            "  Stored in directory: /root/.cache/pip/wheels/a5/ca/a8/4e28def53797fdc4363ca4af740db15a9c2f1595ebc51fb445\n",
            "Successfully built scikit-surprise\n",
            "Installing collected packages: scikit-surprise\n",
            "Successfully installed scikit-surprise-1.1.3\n"
          ]
        }
      ],
      "source": [
        "pip install scikit-surprise\n"
      ]
    },
    {
      "cell_type": "code",
      "source": [
        "import pandas as pd\n",
        "from sklearn.feature_extraction.text import TfidfVectorizer\n",
        "from sklearn.metrics.pairwise import linear_kernel\n",
        "from surprise import Dataset, Reader, SVD\n",
        "from surprise.model_selection import train_test_split\n",
        "from collections import defaultdict\n",
        "import matplotlib.pyplot as plt"
      ],
      "metadata": {
        "id": "IeTqjGCMd9vB"
      },
      "execution_count": 30,
      "outputs": []
    },
    {
      "cell_type": "code",
      "source": [
        "# Load datasets\n",
        "links_df = pd.read_csv('links.csv')\n",
        "movies_df = pd.read_csv('movies.csv')\n",
        "ratings_df = pd.read_csv('ratings.csv')\n",
        "tags_df = pd.read_csv('tags.csv')\n"
      ],
      "metadata": {
        "id": "m1Jj4kfHenpR"
      },
      "execution_count": 31,
      "outputs": []
    },
    {
      "cell_type": "code",
      "source": [
        "# Merge movies with ratings\n",
        "movie_ratings_df = pd.merge(movies_df, ratings_df, on='movieId')\n",
        "\n",
        "# Define the Reader object for Surprise\n",
        "reader = Reader(rating_scale=(1, 5))\n",
        "\n",
        "# Load the Surprise dataset\n",
        "data = Dataset.load_from_df(movie_ratings_df[['userId', 'movieId', 'rating']], reader)\n",
        "\n",
        "# Split the dataset into train and test sets\n",
        "trainset, testset = train_test_split(data, test_size=0.2, random_state=42)\n",
        "\n",
        "# Train the SVD algorithm on the trainset\n",
        "algo_svd = SVD()\n",
        "algo_svd.fit(trainset)\n",
        "\n",
        "# Make predictions on the testset using SVD\n",
        "predictions_svd = algo_svd.test(testset)"
      ],
      "metadata": {
        "id": "MS0JoD3Yh6fC"
      },
      "execution_count": 32,
      "outputs": []
    },
    {
      "cell_type": "code",
      "source": [
        "\n",
        "# Merge movies with tags\n",
        "movie_tags_df = pd.merge(movies_df, tags_df, on='movieId', how='left')\n",
        "\n",
        "# Combine tags for each movie\n",
        "movie_tags_df['combined_tags'] = movie_tags_df.groupby('movieId')['tag'].transform(lambda x: ' '.join(x.fillna('')))\n",
        "\n",
        "# Initialize TF-IDF vectorizer\n",
        "tfidf_vectorizer = TfidfVectorizer(stop_words='english')\n",
        "\n",
        "# Fit and transform TF-IDF vectorizer\n",
        "tfidf_matrix = tfidf_vectorizer.fit_transform(movie_tags_df['combined_tags'])\n",
        "\n",
        "# Calculate cosine similarity matrix\n",
        "cosine_sim = linear_kernel(tfidf_matrix, tfidf_matrix)\n",
        "\n",
        "# Create a dictionary to store the ground truth ratings for each user\n",
        "true_ratings = defaultdict(list)\n",
        "for userId, movieId, true_rating in testset:\n",
        "    true_ratings[userId].append((movieId, true_rating))\n"
      ],
      "metadata": {
        "id": "llkPcc3sh7o0"
      },
      "execution_count": 33,
      "outputs": []
    },
    {
      "cell_type": "code",
      "source": [
        "# Hybrid recommendation: combine SVD and content-based recommendations\n",
        "hybrid_recommendations = {}\n",
        "\n",
        "for userId in true_ratings:\n",
        "    # Get top-k recommendations for the user from SVD\n",
        "    user_top_k_svd = [pred.iid for pred in sorted(predictions_svd, key=lambda x: x.est, reverse=True)[:k]]\n",
        "\n",
        "    # Get top-k recommendations for the user based on cosine similarity\n",
        "    user_sim_scores = cosine_sim[userId]\n",
        "    user_top_k_cb = [movie_tags_df.iloc[i]['movieId'] for i, score in sorted(enumerate(user_sim_scores), key=lambda x: x[1], reverse=True)[:k_cb]]\n",
        "\n",
        "    # Combine recommendations from both methods\n",
        "    hybrid_recommendations[userId] = set(user_top_k_svd + user_top_k_cb)\n"
      ],
      "metadata": {
        "id": "Ojm7ehU_h-aJ"
      },
      "execution_count": 35,
      "outputs": []
    },
    {
      "cell_type": "code",
      "source": [
        "# Calculate precision and recall for hybrid recommendations\n",
        "precision_sum_hybrid = 0\n",
        "recall_sum_hybrid = 0\n",
        "for userId in true_ratings:\n",
        "    relevant_items_hybrid = sum(1 for (movieId, _) in true_ratings[userId] if movieId in hybrid_recommendations[userId])\n",
        "    precision_sum_hybrid += relevant_items_hybrid / k\n",
        "    recall_sum_hybrid += relevant_items_hybrid / len(true_ratings[userId])\n",
        "\n",
        "precision_hybrid = precision_sum_hybrid / len(true_ratings)\n",
        "recall_hybrid = recall_sum_hybrid / len(true_ratings)\n",
        "\n",
        "print(\"Hybrid Precision:\", precision_hybrid)\n",
        "print(\"Hybrid Recall:\", recall_hybrid)\n",
        "\n",
        "# Plot bar graph for precision and recall of the hybrid recommendation\n",
        "labels = ['Hybrid Precision', 'Hybrid Recall']\n",
        "values = [precision_hybrid, recall_hybrid]\n",
        "\n",
        "plt.bar(labels, values, color=['purple', 'cyan'])\n",
        "plt.xlabel('Metrics')\n",
        "plt.ylabel('Values')\n",
        "plt.title('Precision and Recall for Hybrid Recommendation')\n",
        "plt.show()"
      ],
      "metadata": {
        "colab": {
          "base_uri": "https://localhost:8080/",
          "height": 507
        },
        "id": "JHELkgXqiB24",
        "outputId": "996689ee-bd1f-4c23-9a09-dbde76da7893"
      },
      "execution_count": 36,
      "outputs": [
        {
          "output_type": "stream",
          "name": "stdout",
          "text": [
            "Hybrid Precision: 0.06091954022988527\n",
            "Hybrid Recall: 0.03352261323532026\n"
          ]
        },
        {
          "output_type": "display_data",
          "data": {
            "text/plain": [
              "<Figure size 640x480 with 1 Axes>"
            ],
            "image/png": "[encoded data removed]"
          },
          "metadata": {}
        }
      ]
    }
  ]
}