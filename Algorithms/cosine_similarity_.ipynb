{
  "cells": [
    {
      "cell_type": "code",
      "execution_count": null,
      "metadata": {
        "id": "KomCJGikS-nC"
      },
      "outputs": [],
      "source": [
        "import pandas as pd\n",
        "from sklearn.feature_extraction.text import TfidfVectorizer\n",
        "from sklearn.metrics.pairwise import linear_kernel\n"
      ]
    },
    {
      "cell_type": "code",
      "execution_count": null,
      "metadata": {
        "id": "0xVkKSBbS-nD"
      },
      "outputs": [],
      "source": [
        "# Load datasets\n",
        "links_df = pd.read_csv(r'c:\\Users\\swapna\\Desktop\\major project\\dataset\\ml-latest-small\\links.csv')\n",
        "movies_df = pd.read_csv(r'c:\\Users\\swapna\\Desktop\\major project\\dataset\\ml-latest-small\\movies.csv')\n",
        "ratings_df = pd.read_csv(r'c:\\Users\\swapna\\Desktop\\major project\\dataset\\ml-latest-small\\ratings.csv')\n",
        "tags_df = pd.read_csv(r'c:\\Users\\swapna\\Desktop\\major project\\dataset\\ml-latest-small\\tags.csv')\n",
        "\n"
      ]
    },
    {
      "cell_type": "code",
      "execution_count": null,
      "metadata": {
        "id": "SJrERCX1S-nE",
        "outputId": "6a1da833-dcc8-4f9d-c08a-48f7127af3b8"
      },
      "outputs": [
        {
          "name": "stdout",
          "output_type": "stream",
          "text": [
            "Overall Precision: 0.19180327868852642\n",
            "Overall Recall: 0.017377219054041226\n"
          ]
        }
      ],
      "source": [
        "\n",
        "# Merge movies and tags data\n",
        "movies_tags_df = pd.merge(movies_df, tags_df, on='movieId', how='left')\n",
        "\n",
        "# Combine tags for each movie\n",
        "movies_tags_df['combined_tags'] = movies_tags_df.groupby('movieId')['tag'].transform(lambda x: ' '.join(x.fillna('')))\n",
        "\n",
        "# Initialize TfidfVectorizer\n",
        "tfidf_vectorizer = TfidfVectorizer(stop_words='english')\n",
        "\n",
        "# Fit and transform TF-IDF vectorizer\n",
        "tfidf_matrix = tfidf_vectorizer.fit_transform(movies_tags_df['combined_tags'])\n",
        "\n",
        "# Calculate cosine similarity matrix\n",
        "cosine_sim = linear_kernel(tfidf_matrix, tfidf_matrix)\n",
        "\n",
        "# Function to recommend movies based on user's rated movies\n",
        "def recommend_movies(user_id, ratings_df, movies_tags_df, cosine_sim, n_recommendations=5):\n",
        "    # Get movies rated by the user\n",
        "    user_rated_movies = ratings_df[ratings_df['userId'] == user_id]['movieId']\n",
        "\n",
        "    # Initialize movie scores\n",
        "    movie_scores = {}\n",
        "\n",
        "    # Iterate over each movie rated by the user\n",
        "    for movie_id in user_rated_movies:\n",
        "        # Get index of the movie in the movies dataframe\n",
        "        movie_idx = movies_tags_df[movies_tags_df['movieId'] == movie_id].index[0]\n",
        "\n",
        "        # Get similarity scores of all movies with respect to the current movie\n",
        "        sim_scores = list(enumerate(cosine_sim[movie_idx]))\n",
        "\n",
        "        # Sort movies based on similarity scores\n",
        "        sim_scores = sorted(sim_scores, key=lambda x: x[1], reverse=True)\n",
        "\n",
        "        # Get top N similar movies\n",
        "        top_similar_movies = sim_scores[1:n_recommendations+1]\n",
        "\n",
        "        # Update movie scores\n",
        "        for idx, score in top_similar_movies:\n",
        "            movie_id = movies_tags_df.iloc[idx]['movieId']\n",
        "            if movie_id not in movie_scores:\n",
        "                movie_scores[movie_id] = score\n",
        "            else:\n",
        "                movie_scores[movie_id] += score\n",
        "\n",
        "    # Sort movies based on scores\n",
        "    recommended_movies = sorted(movie_scores.items(), key=lambda x: x[1], reverse=True)\n",
        "\n",
        "    return [movie[0] for movie in recommended_movies[:n_recommendations]]\n",
        "# Function to calculate precision and recall for overall recommendations\n",
        "def calculate_precision_recall(ratings_df, recommended_movies, n_recommendations=5):\n",
        "    # Initialize variables to store precision and recall\n",
        "    precision_sum = 0\n",
        "    recall_sum = 0\n",
        "\n",
        "    # Iterate over each user\n",
        "    for user_id in ratings_df['userId'].unique():\n",
        "        # Get movies rated by the user\n",
        "        actual_movies = ratings_df[ratings_df['userId'] == user_id]['movieId'].values\n",
        "\n",
        "        # Get recommended movies for the user\n",
        "        recommended_movies_user = recommend_movies(user_id, ratings_df, movies_tags_df, cosine_sim, n_recommendations)\n",
        "\n",
        "        # Limit the number of recommended movies for precision calculation\n",
        "        recommended_movies_user = recommended_movies_user[:n_recommendations // 3]\n",
        "\n",
        "        # Calculate intersection between actual and recommended movies\n",
        "        intersection = len(set(actual_movies) & set(recommended_movies_user))\n",
        "\n",
        "        # Calculate precision and recall\n",
        "        precision = intersection / n_recommendations\n",
        "        recall = intersection / len(actual_movies)\n",
        "\n",
        "        # Add precision and recall to sums\n",
        "        precision_sum += precision\n",
        "        recall_sum += recall\n",
        "\n",
        "    # Calculate average precision and recall\n",
        "    overall_precision = precision_sum / len(ratings_df['userId'].unique())\n",
        "    overall_recall = recall_sum / len(ratings_df['userId'].unique())\n",
        "\n",
        "    return overall_precision, overall_recall\n",
        "\n",
        "# Calculate precision and recall for overall recommendations\n",
        "overall_precision, overall_recall = calculate_precision_recall(ratings_df, recommended_movies)\n",
        "print(\"Overall Precision:\", overall_precision)\n",
        "print(\"Overall Recall:\", overall_recall)\n"
      ]
    },
    {
      "cell_type": "code",
      "execution_count": null,
      "metadata": {
        "id": "nXoGphiVS-nH",
        "outputId": "8ed501e0-0919-42c0-82ec-9c6d1ce31bdb"
      },
      "outputs": [
        {
          "data": {
            "image/png": "[encoded data removed]",
            "text/plain": [
              "<Figure size 640x480 with 1 Axes>"
            ]
          },
          "metadata": {},
          "output_type": "display_data"
        }
      ],
      "source": [
        "import matplotlib.pyplot as plt\n",
        "\n",
        "# Function to calculate precision and recall for overall recommendations\n",
        "def calculate_precision_recall(ratings_df, recommended_movies, n_recommendations=5):\n",
        "    # Initialize lists to store precision and recall\n",
        "    precision_list = []\n",
        "    recall_list = []\n",
        "\n",
        "    # Iterate over each user\n",
        "    for user_id in ratings_df['userId'].unique():\n",
        "        # Get movies rated by the user\n",
        "        actual_movies = ratings_df[ratings_df['userId'] == user_id]['movieId'].values\n",
        "\n",
        "        # Get recommended movies for the user\n",
        "        recommended_movies_user = recommend_movies(user_id, ratings_df, movies_tags_df, cosine_sim, n_recommendations)\n",
        "\n",
        "        # Limit the number of recommended movies for precision calculation\n",
        "        recommended_movies_user = recommended_movies_user[:n_recommendations // 3]\n",
        "\n",
        "        # Calculate intersection between actual and recommended movies\n",
        "        intersection = len(set(actual_movies) & set(recommended_movies_user))\n",
        "\n",
        "        # Calculate precision and recall\n",
        "        precision = intersection / n_recommendations\n",
        "        recall = intersection / len(actual_movies)\n",
        "\n",
        "        # Add precision and recall to lists\n",
        "        precision_list.append(precision)\n",
        "        recall_list.append(recall)\n",
        "\n",
        "    return precision_list, recall_list\n",
        "\n",
        "# Calculate precision and recall for overall recommendations\n",
        "precision_list, recall_list = calculate_precision_recall(ratings_df, recommended_movies)\n",
        "\n",
        "# Calculate overall precision and recall\n",
        "overall_precision = sum(precision_list) / len(precision_list)\n",
        "overall_recall = sum(recall_list) / len(recall_list)\n",
        "\n",
        "# Plot bar graph for precision and recall\n",
        "labels = ['Precision', 'Recall']\n",
        "values = [overall_precision, overall_recall]\n",
        "\n",
        "plt.bar(labels, values, color=['blue', 'green'])\n",
        "plt.xlabel('Metrics')\n",
        "plt.ylabel('Values')\n",
        "plt.title('Overall Precision and Recall')\n",
        "plt.show()\n"
      ]
    },
    {
      "cell_type": "code",
      "execution_count": null,
      "metadata": {
        "id": "q6sUeu1WS-nJ"
      },
      "outputs": [],
      "source": []
    }
  ],
  "metadata": {
    "kernelspec": {
      "display_name": "learning",
      "language": "python",
      "name": "python3"
    },
    "language_info": {
      "codemirror_mode": {
        "name": "ipython",
        "version": 3
      },
      "file_extension": ".py",
      "mimetype": "text/x-python",
      "name": "python",
      "nbconvert_exporter": "python",
      "pygments_lexer": "ipython3",
      "version": "3.11.0"
    },
    "colab": {
      "provenance": []
    }
  },
  "nbformat": 4,
  "nbformat_minor": 0
}